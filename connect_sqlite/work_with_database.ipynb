{
 "cells": [
  {
   "cell_type": "code",
   "execution_count": 1,
   "metadata": {},
   "outputs": [
    {
     "name": "stdout",
     "output_type": "stream",
     "text": [
      "Collecting faker\n",
      "  Downloading Faker-17.5.0-py3-none-any.whl (1.7 MB)\n",
      "\u001b[K     |████████████████████████████████| 1.7 MB 1.0 MB/s eta 0:00:01\n",
      "\u001b[?25hRequirement already satisfied: python-dateutil>=2.4 in /Users/ian/opt/anaconda3/lib/python3.9/site-packages (from faker) (2.8.2)\n",
      "Requirement already satisfied: six>=1.5 in /Users/ian/opt/anaconda3/lib/python3.9/site-packages (from python-dateutil>=2.4->faker) (1.16.0)\n",
      "Installing collected packages: faker\n",
      "Successfully installed faker-17.5.0\n"
     ]
    }
   ],
   "source": [
    "# Fake data for example\n",
    "%pip install faker"
   ]
  },
  {
   "cell_type": "code",
   "execution_count": 1,
   "metadata": {},
   "outputs": [],
   "source": [
    "import sqlite3\n",
    "from faker import Faker"
   ]
  },
  {
   "attachments": {},
   "cell_type": "markdown",
   "metadata": {},
   "source": [
    "### The SQLite connection create a file called _sample.db_"
   ]
  },
  {
   "cell_type": "code",
   "execution_count": 2,
   "metadata": {},
   "outputs": [],
   "source": [
    "connection = sqlite3.connect('sample.db')\n",
    "cursor = connection.cursor()"
   ]
  },
  {
   "attachments": {},
   "cell_type": "markdown",
   "metadata": {},
   "source": [
    "## Create a table"
   ]
  },
  {
   "cell_type": "code",
   "execution_count": null,
   "metadata": {},
   "outputs": [],
   "source": [
    "table_query = 'CREATE TABLE IF NOT EXISTS people (id integer primary key, name TEXT, surname TEXT)'\n",
    "cursor.execute(table_query)\n",
    "connection.commit()"
   ]
  },
  {
   "cell_type": "code",
   "execution_count": 8,
   "metadata": {},
   "outputs": [
    {
     "data": {
      "text/plain": [
       "[['Linda', 'Caldwell'],\n",
       " ['Tina', 'Walsh'],\n",
       " ['Melissa', 'Bennett'],\n",
       " ['Christopher', 'West'],\n",
       " ['Bethany', 'Smith'],\n",
       " ['Jaime', 'Kramer'],\n",
       " ['Christopher', 'Rosario'],\n",
       " ['Rachel', 'Butler'],\n",
       " ['Jill', 'Gaines'],\n",
       " ['Michael', 'Palmer'],\n",
       " ['Margaret', 'Ramos'],\n",
       " ['David', 'King'],\n",
       " ['Melinda', 'Murphy'],\n",
       " ['Zachary', 'Haley'],\n",
       " ['Patrick', 'Bates'],\n",
       " ['Molly', 'Mendoza'],\n",
       " ['Edwin', 'Turner'],\n",
       " ['Maria', 'Cardenas'],\n",
       " ['Nathan', 'Smith'],\n",
       " ['Shawn', 'Lee']]"
      ]
     },
     "execution_count": 8,
     "metadata": {},
     "output_type": "execute_result"
    }
   ],
   "source": [
    "fake = Faker()\n",
    "names = [fake.name().split() for i in range(100)]\n",
    "names = [name for name in names if len(name) == 2]\n",
    "names[:20]"
   ]
  },
  {
   "attachments": {},
   "cell_type": "markdown",
   "metadata": {},
   "source": [
    "### Connect to SQLite"
   ]
  },
  {
   "cell_type": "code",
   "execution_count": 9,
   "metadata": {},
   "outputs": [],
   "source": [
    "#conn = sqlite3.connect('sample.db')\n",
    "#cursor = conn.cursor()\n",
    "insert_query = 'INSERT INTO people (name, surname) VALUES (?, ?)'\n",
    "id = 0\n",
    "for nombre in names:\n",
    "    id += 1\n",
    "    cursor.execute(insert_query, nombre)\n",
    "\n",
    "connection.commit()\n"
   ]
  },
  {
   "attachments": {},
   "cell_type": "markdown",
   "metadata": {},
   "source": [
    "### View table with data into"
   ]
  },
  {
   "cell_type": "code",
   "execution_count": 10,
   "metadata": {},
   "outputs": [
    {
     "name": "stdout",
     "output_type": "stream",
     "text": [
      "(1, 'Linda', 'Caldwell')\n",
      "(2, 'Tina', 'Walsh')\n",
      "(3, 'Melissa', 'Bennett')\n",
      "(4, 'Christopher', 'West')\n",
      "(5, 'Bethany', 'Smith')\n",
      "(6, 'Jaime', 'Kramer')\n",
      "(7, 'Christopher', 'Rosario')\n",
      "(8, 'Rachel', 'Butler')\n",
      "(9, 'Jill', 'Gaines')\n",
      "(10, 'Michael', 'Palmer')\n"
     ]
    }
   ],
   "source": [
    "select_query = 'SELECT * FROM people LIMIT 10'\n",
    "for i in cursor.execute(select_query):\n",
    "    print(i)"
   ]
  },
  {
   "attachments": {},
   "cell_type": "markdown",
   "metadata": {},
   "source": [
    "## SQL commands"
   ]
  },
  {
   "cell_type": "code",
   "execution_count": 4,
   "metadata": {},
   "outputs": [
    {
     "name": "stdout",
     "output_type": "stream",
     "text": [
      "(1, 'Linda', 'Caldwell')\n",
      "(2, 'Tina', 'Walsh')\n",
      "(3, 'Melissa', 'Bennett')\n",
      "(4, 'Christopher', 'West')\n",
      "(5, 'Bethany', 'Smith')\n",
      "(6, 'Jaime', 'Kramer')\n",
      "(7, 'Christopher', 'Rosario')\n",
      "(8, 'Rachel', 'Butler')\n",
      "(9, 'Jill', 'Gaines')\n",
      "(10, 'Michael', 'Palmer')\n",
      "(11, 'Margaret', 'Ramos')\n",
      "(12, 'David', 'King')\n",
      "(13, 'Melinda', 'Murphy')\n",
      "(14, 'Zachary', 'Haley')\n",
      "(15, 'Patrick', 'Bates')\n",
      "(16, 'Molly', 'Mendoza')\n",
      "(17, 'Edwin', 'Turner')\n",
      "(18, 'Maria', 'Cardenas')\n",
      "(19, 'Nathan', 'Smith')\n",
      "(20, 'Shawn', 'Lee')\n",
      "(21, 'Diana', 'Hicks')\n",
      "(22, 'Colleen', 'Collins')\n",
      "(23, 'Michael', 'Byrd')\n",
      "(24, 'Edward', 'Perkins')\n",
      "(25, 'Aaron', 'Reilly')\n",
      "(26, 'Scott', 'Sandoval')\n",
      "(27, 'Amy', 'Rice')\n",
      "(28, 'Michelle', 'Grant')\n",
      "(29, 'Rose', 'Ramos')\n",
      "(30, 'Gabriela', 'Ruiz')\n",
      "(31, 'Angela', 'Mckinney')\n",
      "(32, 'Pamela', 'Boyer')\n",
      "(33, 'Gina', 'Brown')\n",
      "(34, 'Dustin', 'Rodriguez')\n",
      "(35, 'Jeremiah', 'Henderson')\n",
      "(36, 'Gregory', 'Frey')\n",
      "(37, 'Katherine', 'Johnson')\n",
      "(38, 'Bridget', 'Anderson')\n",
      "(39, 'Ashley', 'Mcclain')\n",
      "(40, 'Laura', 'Rush')\n",
      "(41, 'Jamie', 'Burton')\n",
      "(42, 'Eric', 'Schwartz')\n",
      "(43, 'Jessica', 'Manning')\n",
      "(44, 'Kathleen', 'Bates')\n",
      "(45, 'Kyle', 'Herrera')\n",
      "(46, 'Michael', 'Watson')\n",
      "(47, 'Scott', 'Hayes')\n",
      "(48, 'Janet', 'Snyder')\n",
      "(49, 'Lauren', 'Durham')\n",
      "(50, 'Alan', 'Smith')\n",
      "(51, 'David', 'Thompson')\n",
      "(52, 'Amy', 'Sanders')\n",
      "(53, 'Ashley', 'Weiss')\n",
      "(54, 'Margaret', 'Wang')\n",
      "(55, 'Victoria', 'Bradford')\n",
      "(56, 'Sharon', 'Williams')\n",
      "(57, 'Michael', 'Mcknight')\n",
      "(58, 'Virginia', 'Mcdaniel')\n",
      "(59, 'Lisa', 'Cisneros')\n",
      "(60, 'Alexis', 'Williams')\n",
      "(61, 'Jermaine', 'Alvarez')\n",
      "(62, 'Joshua', 'Clark')\n",
      "(63, 'Jamie', 'Williams')\n",
      "(64, 'Jessica', 'Dunn')\n",
      "(65, 'Destiny', 'Romero')\n",
      "(66, 'Norman', 'Melton')\n",
      "(67, 'Kimberly', 'Walker')\n",
      "(68, 'Heather', 'Hahn')\n",
      "(69, 'Rodney', 'Smith')\n",
      "(70, 'Edwin', 'Mclaughlin')\n",
      "(71, 'Robert', 'Johnson')\n",
      "(72, 'Brian', 'Fuller')\n",
      "(73, 'Cheryl', 'Conner')\n",
      "(74, 'Jamie', 'Smith')\n",
      "(75, 'Bobby', 'Craig')\n",
      "(76, 'Beth', 'Thomas')\n",
      "(77, 'Amanda', 'Atkinson')\n",
      "(78, 'Beth', 'Perez')\n",
      "(79, 'Joshua', 'Bowen')\n",
      "(80, 'Eric', 'Hernandez')\n",
      "(81, 'Scott', 'Gordon')\n",
      "(82, 'Mark', 'Beck')\n",
      "(83, 'Monica', 'Kelly')\n",
      "(84, 'Robert', 'Hill')\n",
      "(85, 'Natalie', 'Rowe')\n",
      "(86, 'Tiffany', 'Garner')\n",
      "(87, 'Jamie', 'Reese')\n",
      "(88, 'Eric', 'Buck')\n",
      "(89, 'Stephanie', 'Moreno')\n",
      "(90, 'Marcus', 'Wilson')\n",
      "(91, 'David', 'Bryant')\n",
      "(92, 'Jessica', 'Huff')\n",
      "(93, 'Kenneth', 'Johnson')\n",
      "(94, 'Cheryl', 'Lopez')\n",
      "(95, 'Louis', 'Hudson')\n",
      "(96, 'Michael', 'Roberts')\n",
      "(97, 'Richard', 'Olson')\n"
     ]
    }
   ],
   "source": [
    "select_statement = 'SELECT * FROM people'\n",
    "for result in cursor.execute(select_statement):\n",
    "    print(result)"
   ]
  },
  {
   "cell_type": "code",
   "execution_count": null,
   "metadata": {},
   "outputs": [],
   "source": [
    "connection.close()"
   ]
  }
 ],
 "metadata": {
  "kernelspec": {
   "display_name": "base",
   "language": "python",
   "name": "python3"
  },
  "language_info": {
   "codemirror_mode": {
    "name": "ipython",
    "version": 3
   },
   "file_extension": ".py",
   "mimetype": "text/x-python",
   "name": "python",
   "nbconvert_exporter": "python",
   "pygments_lexer": "ipython3",
   "version": "3.9.7"
  },
  "orig_nbformat": 4
 },
 "nbformat": 4,
 "nbformat_minor": 2
}
