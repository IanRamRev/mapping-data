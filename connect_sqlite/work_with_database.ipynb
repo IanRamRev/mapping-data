{
 "cells": [
  {
   "cell_type": "code",
   "execution_count": 1,
   "metadata": {},
   "outputs": [
    {
     "name": "stdout",
     "output_type": "stream",
     "text": [
      "Collecting faker\n",
      "  Downloading Faker-17.5.0-py3-none-any.whl (1.7 MB)\n",
      "\u001b[K     |████████████████████████████████| 1.7 MB 1.0 MB/s eta 0:00:01\n",
      "\u001b[?25hRequirement already satisfied: python-dateutil>=2.4 in /Users/ian/opt/anaconda3/lib/python3.9/site-packages (from faker) (2.8.2)\n",
      "Requirement already satisfied: six>=1.5 in /Users/ian/opt/anaconda3/lib/python3.9/site-packages (from python-dateutil>=2.4->faker) (1.16.0)\n",
      "Installing collected packages: faker\n",
      "Successfully installed faker-17.5.0\n"
     ]
    }
   ],
   "source": [
    "# Fake data for example\n",
    "%pip install faker"
   ]
  },
  {
   "cell_type": "code",
   "execution_count": 1,
   "metadata": {},
   "outputs": [],
   "source": [
    "import sqlite3\n",
    "from faker import Faker"
   ]
  },
  {
   "attachments": {},
   "cell_type": "markdown",
   "metadata": {},
   "source": [
    "### The SQLite connection create a file called _sample.db_"
   ]
  },
  {
   "cell_type": "code",
   "execution_count": 7,
   "metadata": {},
   "outputs": [],
   "source": [
    "connection = sqlite3.connect('sample.db')\n",
    "cursor = connection.cursor()\n",
    "\n",
    "table_query = 'CREATE TABLE IF NOT EXISTS people (id integer primary key, name TEXT, surname TEXT)'\n",
    "cursor.execute(table_query)\n",
    "connection.commit()"
   ]
  },
  {
   "cell_type": "code",
   "execution_count": 8,
   "metadata": {},
   "outputs": [
    {
     "data": {
      "text/plain": [
       "[['Linda', 'Caldwell'],\n",
       " ['Tina', 'Walsh'],\n",
       " ['Melissa', 'Bennett'],\n",
       " ['Christopher', 'West'],\n",
       " ['Bethany', 'Smith'],\n",
       " ['Jaime', 'Kramer'],\n",
       " ['Christopher', 'Rosario'],\n",
       " ['Rachel', 'Butler'],\n",
       " ['Jill', 'Gaines'],\n",
       " ['Michael', 'Palmer'],\n",
       " ['Margaret', 'Ramos'],\n",
       " ['David', 'King'],\n",
       " ['Melinda', 'Murphy'],\n",
       " ['Zachary', 'Haley'],\n",
       " ['Patrick', 'Bates'],\n",
       " ['Molly', 'Mendoza'],\n",
       " ['Edwin', 'Turner'],\n",
       " ['Maria', 'Cardenas'],\n",
       " ['Nathan', 'Smith'],\n",
       " ['Shawn', 'Lee']]"
      ]
     },
     "execution_count": 8,
     "metadata": {},
     "output_type": "execute_result"
    }
   ],
   "source": [
    "fake = Faker()\n",
    "names = [fake.name().split() for i in range(100)]\n",
    "names = [name for name in names if len(name) == 2]\n",
    "names[:20]"
   ]
  },
  {
   "attachments": {},
   "cell_type": "markdown",
   "metadata": {},
   "source": [
    "### Connect to SQLite"
   ]
  },
  {
   "cell_type": "code",
   "execution_count": 9,
   "metadata": {},
   "outputs": [],
   "source": [
    "#conn = sqlite3.connect('sample.db')\n",
    "#cursor = conn.cursor()\n",
    "insert_query = 'INSERT INTO people (name, surname) VALUES (?, ?)'\n",
    "id = 0\n",
    "for nombre in names:\n",
    "    id += 1\n",
    "    cursor.execute(insert_query, nombre)\n",
    "\n",
    "connection.commit()\n"
   ]
  },
  {
   "attachments": {},
   "cell_type": "markdown",
   "metadata": {},
   "source": [
    "### View table with data into"
   ]
  },
  {
   "cell_type": "code",
   "execution_count": 10,
   "metadata": {},
   "outputs": [
    {
     "name": "stdout",
     "output_type": "stream",
     "text": [
      "(1, 'Linda', 'Caldwell')\n",
      "(2, 'Tina', 'Walsh')\n",
      "(3, 'Melissa', 'Bennett')\n",
      "(4, 'Christopher', 'West')\n",
      "(5, 'Bethany', 'Smith')\n",
      "(6, 'Jaime', 'Kramer')\n",
      "(7, 'Christopher', 'Rosario')\n",
      "(8, 'Rachel', 'Butler')\n",
      "(9, 'Jill', 'Gaines')\n",
      "(10, 'Michael', 'Palmer')\n"
     ]
    }
   ],
   "source": [
    "select_query = 'SELECT * FROM people LIMIT 10'\n",
    "for i in cursor.execute(select_query):\n",
    "    print(i)"
   ]
  }
 ],
 "metadata": {
  "kernelspec": {
   "display_name": "base",
   "language": "python",
   "name": "python3"
  },
  "language_info": {
   "codemirror_mode": {
    "name": "ipython",
    "version": 3
   },
   "file_extension": ".py",
   "mimetype": "text/x-python",
   "name": "python",
   "nbconvert_exporter": "python",
   "pygments_lexer": "ipython3",
   "version": "3.9.7"
  },
  "orig_nbformat": 4
 },
 "nbformat": 4,
 "nbformat_minor": 2
}
